{
 "cells": [
  {
   "cell_type": "code",
   "execution_count": 7,
   "metadata": {},
   "outputs": [],
   "source": [
    "import re\n",
    "import numpy as np\n",
    "import pandas as pd"
   ]
  },
  {
   "cell_type": "code",
   "execution_count": 8,
   "metadata": {},
   "outputs": [],
   "source": [
    "def raw_to_df(file, chat_owner_name):\n",
    "    with open(file, 'r', encoding = 'utf-8') as f:  #read the raw text\n",
    "        text = f.read()\n",
    "        \n",
    "    user_messages = re.split('\\d{1,2}/\\d{1,2}/\\d{2,4},\\s\\d{1,2}:\\d{2}\\s-\\s', text)[2:]  #aggregating users and messages, starting from 3rd element as its relevant messg (this regexcan be different for different mobiles)\n",
    "    dates = re.findall('\\d{1,2}/\\d{1,2}/\\d{2,4},\\s\\d{1,2}:\\d{2}', text)[1:]  #aggregaing dates, starting from 2nd as it corresponds to real messages ( this regex can be different for different mobiles)\n",
    "    \n",
    "    df= pd.DataFrame({'dates': dates,'user_messg':user_messages})  #df of above collected things\n",
    "    df['messg_type'] = df.user_messg.apply(lambda x: 'notification' if ':' not in x else 'normal')  #labelling messages as [normal,notification]\n",
    "    df['user'] = df.loc[df.messg_type == 'normal','user_messg'].apply(lambda x: re.findall(\"(.+?):\",x)[0])  #getting users\n",
    "    df['messg'] = df.loc[df.messg_type == 'normal','user_messg'].apply(lambda x: re.findall(\":(.+)\",x)[0])  #getting normal messages\n",
    "    df.loc[pd.isnull(df.messg),'messg'] = df.loc[pd.isnull(df.messg),'user_messg'].apply(lambda x: re.findall('.+',x)[0])  #getting notificatio messages\n",
    "    df.drop('user_messg',axis=1,inplace=True)  #dropping redundant col\n",
    "    \n",
    "    me = chat_owner_name\n",
    "    users = [x for x in df.user.unique() if type(x) != np.float]\n",
    "    users = re.sub(me,'You',\"/\".join(users)).split('/')\n",
    "    \n",
    "    def notif_name_extractor(x, users = users):   #func to extraxt user names\n",
    "        x = ' '.join(x.split()[:3])\n",
    "        for name in users:\n",
    "            if name not in x:\n",
    "                pass\n",
    "            else:\n",
    "                return name\n",
    "\n",
    "        return 'System'\n",
    "    \n",
    "    df.loc[(df.messg_type == 'notification') & (pd.isnull(df.user)),'user'] = df.loc[(df.messg_type == 'notification') & (pd.isnull(df.user)),'messg'].apply(notif_name_extractor)  #applying notif_name_extrator\n",
    "    \n",
    "    df.user.replace('You',me,inplace=True)  #replacing 'You' with chat_owners name\n",
    "    df.loc[df.messg_type == 'notification','messg_type'] = df.loc[df.messg_type == 'notification','messg'].apply(lambda x: 'name_change' if 'changed the subject from' in x else 'notification')  ##splitting notification into [name_change,notification]\n",
    "    \n",
    "    df['dates'] = pd.to_datetime(df['dates'], format='%m/%d/%y, %H:%M') # converting dates col to datetime format\n",
    "    df = df.sort_values('dates').reset_index(drop=True)\n",
    "    return df"
   ]
  },
  {
   "cell_type": "code",
   "execution_count": 9,
   "metadata": {
    "scrolled": true
   },
   "outputs": [],
   "source": [
    "chat_df = raw_to_df('data/chat.txt','Sahil Patil')"
   ]
  },
  {
   "cell_type": "code",
   "execution_count": null,
   "metadata": {},
   "outputs": [],
   "source": []
  }
 ],
 "metadata": {
  "kernelspec": {
   "display_name": "Python 3",
   "language": "python",
   "name": "python3"
  },
  "language_info": {
   "codemirror_mode": {
    "name": "ipython",
    "version": 3
   },
   "file_extension": ".py",
   "mimetype": "text/x-python",
   "name": "python",
   "nbconvert_exporter": "python",
   "pygments_lexer": "ipython3",
   "version": "3.6.7"
  },
  "toc": {
   "base_numbering": 1,
   "nav_menu": {},
   "number_sections": true,
   "sideBar": true,
   "skip_h1_title": false,
   "title_cell": "Table of Contents",
   "title_sidebar": "Contents",
   "toc_cell": false,
   "toc_position": {},
   "toc_section_display": true,
   "toc_window_display": false
  },
  "varInspector": {
   "cols": {
    "lenName": 16,
    "lenType": 16,
    "lenVar": 40
   },
   "kernels_config": {
    "python": {
     "delete_cmd_postfix": "",
     "delete_cmd_prefix": "del ",
     "library": "var_list.py",
     "varRefreshCmd": "print(var_dic_list())"
    },
    "r": {
     "delete_cmd_postfix": ") ",
     "delete_cmd_prefix": "rm(",
     "library": "var_list.r",
     "varRefreshCmd": "cat(var_dic_list()) "
    }
   },
   "position": {
    "height": "429.667px",
    "left": "836px",
    "right": "20px",
    "top": "114px",
    "width": "350px"
   },
   "types_to_exclude": [
    "module",
    "function",
    "builtin_function_or_method",
    "instance",
    "_Feature"
   ],
   "window_display": false
  }
 },
 "nbformat": 4,
 "nbformat_minor": 2
}
